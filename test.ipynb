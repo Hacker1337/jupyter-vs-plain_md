{
 "cells": [
  {
   "cell_type": "code",
   "execution_count": null,
   "metadata": {
    "collapsed": true
   },
   "outputs": [],
   "source": []
  },
  {
   "cell_type": "markdown",
   "source": [
    "Пусть мы хотим передать писк на частоте $\\delta\\omega$, и вещаем мы на частоте $w >> \\delta\\omega$.\n",
    "Пользуясь методом мы бы передавали сигнал $A\\cdot cos(\\omega)cos(\\delta\\omega)$ и получили бы огибающую, эмитирующую исходный звук.\n",
    "\n",
    "Теперь же мы будем передавать сигнал $A\\cdot cos(\\omega+2\\delta\\omega)$.\n",
    "Принимающая сторона из полученного сигнала вычитает колебание на основной частоте радиостанции и получается\n",
    "$$A\\cdot cos(\\omega+2\\delta\\omega) - A\\cdot cos(\\omega) = -2A sin(\\omega + \\delta\\omega)\\cdot sin(\\delta\\omega)$$\n",
    "Такой же сигнал мы и получали раньше."
   ],
   "metadata": {
    "collapsed": false
   }
  }
 ],
 "metadata": {
  "kernelspec": {
   "display_name": "Python 3",
   "language": "python",
   "name": "python3"
  },
  "language_info": {
   "codemirror_mode": {
    "name": "ipython",
    "version": 2
   },
   "file_extension": ".py",
   "mimetype": "text/x-python",
   "name": "python",
   "nbconvert_exporter": "python",
   "pygments_lexer": "ipython2",
   "version": "2.7.6"
  }
 },
 "nbformat": 4,
 "nbformat_minor": 0
}